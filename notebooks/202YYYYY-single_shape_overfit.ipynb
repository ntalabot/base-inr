{
 "cells": [
  {
   "cell_type": "code",
   "execution_count": null,
   "id": "f7fe22ab",
   "metadata": {},
   "outputs": [],
   "source": [
    "%matplotlib inline\n",
    "%load_ext autoreload\n",
    "%autoreload 2"
   ]
  },
  {
   "cell_type": "code",
   "execution_count": null,
   "id": "ab260a71",
   "metadata": {},
   "outputs": [],
   "source": [
    "import os, os.path\n",
    "import sys\n",
    "import json\n",
    "import time\n",
    "\n",
    "import numpy as np\n",
    "import matplotlib.pyplot as plt\n",
    "import torch\n",
    "import trimesh\n",
    "\n",
    "if \"../\" not in sys.path:\n",
    "    sys.path.insert(0, \"../\")\n",
    "from src import visualization as viz\n",
    "from src.data import samples_from_tensor\n",
    "from src.loss import get_loss_recon\n",
    "from src.model import get_model, activation, features\n",
    "from src.utils import set_seed, clamp_sdf"
   ]
  },
  {
   "cell_type": "markdown",
   "id": "0ea61e7c",
   "metadata": {},
   "source": [
    "# Initialization"
   ]
  },
  {
   "cell_type": "code",
   "execution_count": null,
   "id": "120e9d26",
   "metadata": {},
   "outputs": [],
   "source": [
    "seed = 0\n",
    "set_seed(seed)\n",
    "print(f\"Seeds initialized to {seed}.\")"
   ]
  },
  {
   "cell_type": "markdown",
   "id": "cf58a631",
   "metadata": {},
   "source": [
    "# Data"
   ]
  },
  {
   "cell_type": "code",
   "execution_count": null,
   "id": "6420061b",
   "metadata": {},
   "outputs": [],
   "source": [
    "idx = 0\n",
    "\n",
    "datasource = \"/scratch/cvlab/datasets/datasets_talabot/shapenet_disn/1_normalized/cars/\"\n",
    "trainsplit = \"/scratch/cvlab/datasets/datasets_talabot/shapenet_disn/1_normalized/cars/splits/cars_train100.json\"\n",
    "\n",
    "with open(trainsplit) as f:\n",
    "    split = json.load(f)\n",
    "instance = split[idx]\n",
    "print(f\"Shape {idx}: {instance}\")\n",
    "\n",
    "# Load shape and samples\n",
    "mesh_gt = trimesh.load(os.path.join(datasource, \"meshes\", instance+\".obj\"))\n",
    "samples_gt = np.load(os.path.join(datasource, \"samples\", instance, \"deepsdf.npz\"))\n",
    "\n",
    "samples_gt = {k: torch.from_numpy(samples_gt[k]).float().cuda() for k in ['pos', 'neg']}\n",
    "\n",
    "# add surf points\n",
    "if False:\n",
    "    surf_gt = np.load(os.path.join(datasource, \"samples\", instance, \"surface.npz\"))['all'][:,:3]\n",
    "    surf_gt = torch.from_numpy(surf_gt).float().cuda()\n",
    "    samples_gt = {\n",
    "        \"pos\" : torch.cat([samples_gt[\"pos\"], torch.cat([surf_gt[:len(surf_gt)//2], torch.zeros_like(surf_gt[:len(surf_gt)//2, 0:1])], dim=-1)], dim=0),\n",
    "        \"neg\" : torch.cat([samples_gt[\"neg\"], torch.cat([surf_gt[len(surf_gt)//2:], torch.zeros_like(surf_gt[len(surf_gt)//2:, 0:1])], dim=-1)], dim=0)\n",
    "    }\n",
    "    print(\"Surf samples:\", surf_gt.shape)\n",
    "\n",
    "print(\"Pos and neg samples:\", samples_gt['pos'].shape, samples_gt['neg'].shape)\n",
    "\n",
    "mesh_gt.show()"
   ]
  },
  {
   "cell_type": "markdown",
   "id": "b2a9ca63",
   "metadata": {},
   "source": [
    "# Model"
   ]
  },
  {
   "cell_type": "code",
   "execution_count": null,
   "id": "b696fee6",
   "metadata": {},
   "outputs": [],
   "source": [
    "from src.model.deepsdf import DeepSDF\n",
    "\n",
    "model = DeepSDF(\n",
    "    latent_dim=0, \n",
    "    hidden_dim=256, \n",
    "    n_layers=6, \n",
    "    in_insert=[3],\n",
    "    dropout=0.0, \n",
    "    weight_norm=True, \n",
    "    activation=\"relu\", \n",
    "    features=None\n",
    ").cuda()\n",
    "\n",
    "if model.features:\n",
    "    print(model.features)\n",
    "    print(f\"{sum([x.nelement() for x in model.features.parameters()]):,} parameters in features.\")\n",
    "print(f\"{sum([x.nelement() for x in model.parameters()]):,} parameters in generator.\")\n",
    "\n",
    "# Dummy empty latent\n",
    "latent = torch.zeros(1, model.latent_dim).cuda()\n",
    "\n",
    "# Re-initialize training history\n",
    "history = {'epoch': 0, 'loss': []}"
   ]
  },
  {
   "cell_type": "markdown",
   "id": "3bd9da24",
   "metadata": {},
   "source": [
    "# Training"
   ]
  },
  {
   "cell_type": "code",
   "execution_count": null,
   "id": "48b5e6bf",
   "metadata": {},
   "outputs": [],
   "source": [
    "n_iters = 1000\n",
    "n_samples = 16384\n",
    "clampD = 0.1\n",
    "\n",
    "loss_recon = get_loss_recon('L1-Hard', 'mean')\n",
    "\n",
    "def _train(n_iters):\n",
    "    \"\"\"Train the model on the shape.\"\"\"\n",
    "    # Inside a function to avoid leftovers variable clogging the memory\n",
    "    optimizer = torch.optim.Adam(model.parameters(), lr=0.001)\n",
    "    scheduler = torch.optim.lr_scheduler.MultiStepLR(optimizer, [int(n_iters*0.8), int(n_iters*0.9)], 0.35)\n",
    "\n",
    "    model.train()\n",
    "    start, start_it = time.time(), -1\n",
    "    for it in range(n_iters):\n",
    "        xyz, sdf_gt = samples_from_tensor(samples_gt['pos'], samples_gt['neg'], n_samples)\n",
    "        \n",
    "        sdf_pred = model(xyz)\n",
    "        if clampD is not None and clampD > 0.:\n",
    "            sdf_pred = clamp_sdf(sdf_pred, clampD, ref=sdf_gt)\n",
    "            sdf_gt = clamp_sdf(sdf_gt, clampD)\n",
    "\n",
    "        loss = loss_recon(sdf_pred, sdf_gt).mean()\n",
    "        \n",
    "        loss.backward()\n",
    "        optimizer.step()\n",
    "        optimizer.zero_grad()\n",
    "        if scheduler is not None:\n",
    "            scheduler.step()\n",
    "        \n",
    "        history['epoch'] += 1\n",
    "        history['loss'].append(loss.item())\n",
    "        if (it+1) % max(1, n_iters // 20) == 0:\n",
    "            print(f\"Iter {it+1: 5d}/{n_iters}: loss={history['loss'][-1]:.6f}\" + \\\n",
    "                  f\"  ({(time.time() - start) / (it - start_it) * 1000: 3.0f}ms/iter)\")\n",
    "            start, start_it = time.time(), it\n",
    "\n",
    "_train(n_iters)"
   ]
  },
  {
   "cell_type": "code",
   "execution_count": null,
   "id": "d32be841",
   "metadata": {},
   "outputs": [],
   "source": [
    "fig, ax = plt.subplots(1, 1, figsize=(4,4))\n",
    "ax.plot(history['loss'])\n",
    "ax.set_title(\"Loss\")\n",
    "ax.set_xlabel('Iter')\n",
    "#ax.set_ylim(0., 0.1)\n",
    "fig.show()"
   ]
  },
  {
   "cell_type": "markdown",
   "id": "c0bcf442",
   "metadata": {},
   "source": [
    "# Results"
   ]
  },
  {
   "cell_type": "code",
   "execution_count": null,
   "id": "9a061a4a",
   "metadata": {},
   "outputs": [],
   "source": [
    "# SDF visualization\n",
    "viz.plot_sdf_slices(model, latent, clampD).show()"
   ]
  },
  {
   "cell_type": "code",
   "execution_count": null,
   "id": "c803a404",
   "metadata": {},
   "outputs": [],
   "source": [
    "# Mesh\n",
    "from src.mesh import create_mesh\n",
    "\n",
    "mesh_pred = create_mesh(model, latent, N=256, grid_filler=True)\n",
    "\n",
    "viz.plot_render([mesh_gt, mesh_pred], titles=[\"GT\", \"Reconstruction\"]).show()"
   ]
  },
  {
   "cell_type": "code",
   "execution_count": null,
   "id": "5799a995",
   "metadata": {},
   "outputs": [],
   "source": [
    "mesh_pred.show()"
   ]
  },
  {
   "cell_type": "code",
   "execution_count": null,
   "id": "9a0baa55",
   "metadata": {},
   "outputs": [],
   "source": [
    "mesh_gt.show()"
   ]
  },
  {
   "cell_type": "code",
   "execution_count": null,
   "id": "329157d7",
   "metadata": {},
   "outputs": [],
   "source": []
  }
 ],
 "metadata": {
  "kernelspec": {
   "display_name": "Python 3 (ipykernel)",
   "language": "python",
   "name": "python3"
  },
  "language_info": {
   "codemirror_mode": {
    "name": "ipython",
    "version": 3
   },
   "file_extension": ".py",
   "mimetype": "text/x-python",
   "name": "python",
   "nbconvert_exporter": "python",
   "pygments_lexer": "ipython3",
   "version": "3.10.6"
  }
 },
 "nbformat": 4,
 "nbformat_minor": 5
}
